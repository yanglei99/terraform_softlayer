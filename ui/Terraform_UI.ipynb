{
 "cells": [
  {
   "cell_type": "markdown",
   "metadata": {
    "collapsed": true
   },
   "source": [
    "## Simple UI for Terraform \n",
    "\n",
    "Reference:\n",
    "* [Jupyter Interact](http://ipywidgets.readthedocs.io/en/latest/examples/Using%20Interact.html#Basic-interact)\n",
    "\n",
    "\n",
    "`pip3 install ipywidgets\n",
    "jupyter nbextension enable --py widgetsnbextension`\n",
    " \n",
    " \n",
    "* [Terraform Python](https://github.com/beelit94/python-terraform)"
   ]
  },
  {
   "cell_type": "code",
   "execution_count": null,
   "metadata": {},
   "outputs": [],
   "source": [
    "!pip3 install ConfigParser"
   ]
  },
  {
   "cell_type": "code",
   "execution_count": null,
   "metadata": {},
   "outputs": [],
   "source": [
    "!pip3 install python_terraform"
   ]
  },
  {
   "cell_type": "code",
   "execution_count": null,
   "metadata": {
    "collapsed": true
   },
   "outputs": [],
   "source": [
    "from __future__ import print_function\n",
    "from ipywidgets import interact, interactive, fixed, interact_manual\n",
    "import ipywidgets as widgets\n",
    "from ipywidgets import Layout, Button"
   ]
  },
  {
   "cell_type": "markdown",
   "metadata": {},
   "source": [
    "### Define Terraform Project Parameter"
   ]
  },
  {
   "cell_type": "code",
   "execution_count": null,
   "metadata": {
    "collapsed": true
   },
   "outputs": [],
   "source": [
    "path = '.'\n",
    "tfvars_filename = 'terraform.tfvars'\n",
    "state_file = 'terraform.tfstate'"
   ]
  },
  {
   "cell_type": "markdown",
   "metadata": {},
   "source": [
    "### Load Terraform Variable Attributes"
   ]
  },
  {
   "cell_type": "code",
   "execution_count": null,
   "metadata": {
    "collapsed": true
   },
   "outputs": [],
   "source": [
    "def f(x,y,z):\n",
    "    global path, tfvars_filename,state_file\n",
    "    path = x\n",
    "    tfvars_filename = y\n",
    "    state_file = z"
   ]
  },
  {
   "cell_type": "code",
   "execution_count": null,
   "metadata": {},
   "outputs": [],
   "source": [
    "path_widget = widgets.Textarea(\n",
    "    value= path,\n",
    "    placeholder='Type something',\n",
    "    description='Path:',\n",
    "    layout=Layout(width='60%', height='30px'),\n",
    "    disabled=False\n",
    ")\n",
    "tfvars_widget = widgets.Textarea(\n",
    "    value= tfvars_filename,\n",
    "    placeholder='Type something',\n",
    "    description='TFVars File:',\n",
    "    layout=Layout(width='60%', height='30px'),\n",
    "    disabled=False\n",
    ")\n",
    "state_widget = widgets.Textarea(\n",
    "    value= state_file,\n",
    "    placeholder='Type something',\n",
    "    description='State File:',\n",
    "    layout=Layout(width='60%', height='30px'),\n",
    "    disabled=False\n",
    ")\n",
    "interact(f,x = path_widget, y= tfvars_widget, z=state_widget);"
   ]
  },
  {
   "cell_type": "code",
   "execution_count": null,
   "metadata": {},
   "outputs": [],
   "source": [
    "import configparser\n",
    "with open(path+'/'+tfvars_filename, 'r') as f:\n",
    "    config_string = '[dummy_section]\\n' + f.read()\n",
    "config = configparser.ConfigParser()\n",
    "config.read_string(config_string)\n",
    "tfconfig_dict_raw = dict(config._sections['dummy_section'])\n",
    "print(path+'/'+tfvars_filename)\n",
    "tfconfig_dict_raw"
   ]
  },
  {
   "cell_type": "markdown",
   "metadata": {},
   "source": [
    "### Build Widgets"
   ]
  },
  {
   "cell_type": "code",
   "execution_count": null,
   "metadata": {},
   "outputs": [],
   "source": [
    "inputWidgets = []\n",
    "titles = []\n",
    "tfconfig_dict = {}\n",
    "for key, value in tfconfig_dict_raw.items():\n",
    "    if value == 'true':\n",
    "        inputWidgets.append(widgets.Checkbox(value=True,description=key,disabled=False))\n",
    "        tfconfig_dict[key] = True\n",
    "    elif value == 'false':                   \n",
    "        inputWidgets.append(widgets.Checkbox(value=False,description=key,disabled=False))\n",
    "        tfconfig_dict[key] = False\n",
    "    elif \"[\" in value :      \n",
    "        a = value.replace('\"', '')\n",
    "        a = a.replace('[', '')\n",
    "        a = a.replace(']', '')\n",
    "        a = a.split(',')\n",
    "        if \"disk\" in key :\n",
    "           inputWidgets.append(widgets.SelectMultiple(options=['25','100'],value=a,description=key,disabled=False))\n",
    "        else:\n",
    "           inputWidgets.append(widgets.SelectMultiple(options=a,value=a,description=key,disabled=False))\n",
    "        tfconfig_dict[key] = a\n",
    "    else:\n",
    "        a = value.replace('\"', '')\n",
    "        inputWidgets.append(widgets.Text(description=key, value=a,  layout=Layout(width='70%', height='30px')))\n",
    "        tfconfig_dict[key] = a\n",
    "    titles.append(key)\n",
    "tfconfig_dict"
   ]
  },
  {
   "cell_type": "markdown",
   "metadata": {},
   "source": [
    "#### Use observe"
   ]
  },
  {
   "cell_type": "code",
   "execution_count": null,
   "metadata": {},
   "outputs": [],
   "source": [
    "def data_changed(change):\n",
    "    #print('change '+change['owner'].description+' to '+ change['new'])\n",
    "    tfconfig_dict[change['owner'].description]=change['new']\n",
    "for t in inputWidgets:\n",
    "    display(t)\n",
    "    t.observe(data_changed, 'value')"
   ]
  },
  {
   "cell_type": "markdown",
   "metadata": {},
   "source": [
    "### Terraform Apply"
   ]
  },
  {
   "cell_type": "code",
   "execution_count": null,
   "metadata": {},
   "outputs": [],
   "source": [
    "print(state_file)\n",
    "print(tfconfig_dict)"
   ]
  },
  {
   "cell_type": "code",
   "execution_count": null,
   "metadata": {},
   "outputs": [],
   "source": [
    "from python_terraform import *\n",
    "tf = Terraform(working_dir=path)\n",
    "\n",
    "apply = Button(description='Terraform Apply',\n",
    "           layout=Layout(width='50%', height='80px'))\n",
    "\n",
    "def apply_clicked(b):\n",
    "    print(b.description+ \" clicked. Executing...\")\n",
    "    return_code, stdout, stderr = tf.apply(state=state_file,no_color=IsFlagged, refresh=False, var=tfconfig_dict,capture_output=True)\n",
    "    print(stdout)\n",
    "    print(stderr)\n",
    "    print(return_code) \n",
    "           \n",
    "display(apply)\n",
    "apply.on_click(apply_clicked)\n"
   ]
  },
  {
   "cell_type": "markdown",
   "metadata": {},
   "source": [
    "### Terraform Destroy"
   ]
  },
  {
   "cell_type": "code",
   "execution_count": null,
   "metadata": {},
   "outputs": [],
   "source": [
    "from python_terraform import *\n",
    "tf = Terraform(working_dir=path_widget.value)\n",
    "\n",
    "destroy = Button(description='Terraform Destroy',\n",
    "           layout=Layout(width='50%', height='80px'))\n",
    "\n",
    "def destroy_clicked(b):\n",
    "    print(b.description+ \" clicked. Executing...\")\n",
    "    return_code, stdout, stderr = tf.destroy(state=state_file,no_color=IsFlagged, refresh=False,capture_output=True)\n",
    "    print(stdout)\n",
    "    print(stderr)\n",
    "    print(return_code) \n",
    "    \n",
    "display(destroy)\n",
    "destroy.on_click(destroy_clicked)\n"
   ]
  },
  {
   "cell_type": "code",
   "execution_count": null,
   "metadata": {
    "collapsed": true
   },
   "outputs": [],
   "source": []
  }
 ],
 "metadata": {
  "kernelspec": {
   "display_name": "Python 3",
   "language": "python",
   "name": "python3"
  },
  "language_info": {
   "codemirror_mode": {
    "name": "ipython",
    "version": 3
   },
   "file_extension": ".py",
   "mimetype": "text/x-python",
   "name": "python",
   "nbconvert_exporter": "python",
   "pygments_lexer": "ipython3",
   "version": "3.6.2"
  }
 },
 "nbformat": 4,
 "nbformat_minor": 2
}
